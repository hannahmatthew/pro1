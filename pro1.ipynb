{
 "cells": [
  {
   "cell_type": "code",
   "execution_count": 1,
   "metadata": {},
   "outputs": [],
   "source": [
    "import numpy as np\n",
    "\n",
    "def calculate(input_list):\n",
    "    if len(input_list) != 9:\n",
    "        raise ValueError(\"List must contain nine numbers.\")\n",
    "    \n",
    "    # Convert the input list to a 3x3 numpy array\n",
    "    matrix = np.array(input_list).reshape(3, 3)\n",
    "    \n",
    "    # Calculate the required statistics\n",
    "    calculations = {\n",
    "        'mean': [matrix.mean(axis=0).tolist(), matrix.mean(axis=1).tolist(), matrix.mean()],\n",
    "        'variance': [matrix.var(axis=0).tolist(), matrix.var(axis=1).tolist(), matrix.var()],\n",
    "        'standard deviation': [matrix.std(axis=0).tolist(), matrix.std(axis=1).tolist(), matrix.std()],\n",
    "        'max': [matrix.max(axis=0).tolist(), matrix.max(axis=1).tolist(), matrix.max()],\n",
    "        'min': [matrix.min(axis=0).tolist(), matrix.min(axis=1).tolist(), matrix.min()],\n",
    "        'sum': [matrix.sum(axis=0).tolist(), matrix.sum(axis=1).tolist(), matrix.sum()]\n",
    "    }\n",
    "    \n",
    "    return calculations\n"
   ]
  },
  {
   "cell_type": "code",
   "execution_count": 3,
   "metadata": {},
   "outputs": [
    {
     "name": "stdout",
     "output_type": "stream",
     "text": [
      "{'mean': [[4.0, 5.333333333333333, 3.0], [3.0, 5.333333333333333, 4.0], 4.111111111111111], 'variance': [[2.0, 2.888888888888889, 4.666666666666667], [0.6666666666666666, 0.22222222222222224, 8.666666666666666], 4.098765432098765], 'standard deviation': [[1.4142135623730951, 1.699673171197595, 2.160246899469287], [0.816496580927726, 0.4714045207910317, 2.943920288775949], 2.0245407953653998], 'max': [[5, 7, 5], [4, 6, 7], 7], 'min': [[2, 3, 0], [2, 5, 0], 0], 'sum': [[12, 16, 9], [9, 16, 12], 37]}\n"
     ]
    }
   ],
   "source": [
    "input_list = [2,3,4,5,6,5,5,7,0]\n",
    "result = calculate(input_list)\n",
    "print(result)\n"
   ]
  },
  {
   "cell_type": "code",
   "execution_count": null,
   "metadata": {},
   "outputs": [],
   "source": []
  },
  {
   "cell_type": "code",
   "execution_count": null,
   "metadata": {},
   "outputs": [],
   "source": []
  }
 ],
 "metadata": {
  "kernelspec": {
   "display_name": "Python 3",
   "language": "python",
   "name": "python3"
  },
  "language_info": {
   "codemirror_mode": {
    "name": "ipython",
    "version": 3
   },
   "file_extension": ".py",
   "mimetype": "text/x-python",
   "name": "python",
   "nbconvert_exporter": "python",
   "pygments_lexer": "ipython3",
   "version": "3.10.6"
  }
 },
 "nbformat": 4,
 "nbformat_minor": 2
}
